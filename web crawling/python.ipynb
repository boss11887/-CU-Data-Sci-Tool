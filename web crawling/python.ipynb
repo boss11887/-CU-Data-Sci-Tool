{
 "cells": [
  {
   "cell_type": "code",
   "execution_count": 39,
   "metadata": {},
   "outputs": [
    {
     "name": "stdout",
     "output_type": "stream",
     "text": [
      "วันเสาร์ที่ 3 มิถุนายน 2566\n"
     ]
    }
   ],
   "source": [
    "import requests\n",
    "from bs4 import BeautifulSoup\n",
    "thai_days_dict = {\n",
    "    \"จันทร์\": 0,\n",
    "    \"อังคาร\": 0,\n",
    "    \"พุธ\": 0,\n",
    "    \"พฤหัสบดี\": 0,\n",
    "    \"ศุกร์\": 0,\n",
    "    \"เสาร์\": 0,\n",
    "    \"อาทิตย์\": 0\n",
    "}\n",
    "\n",
    "def Q1(file_path): # DO NOT modify this line\n",
    "    with open(file_path, 'r', encoding='utf-8') as file:\n",
    "        html_content = file.read()\n",
    "    soup = BeautifulSoup(html_content, 'html.parser')\n",
    "    elements = soup.find_all(class_='bud-day-col')\n",
    "    for element in elements:\n",
    "        text_content = element.text.strip() \n",
    "        for day in thai_days_dict:\n",
    "            if day in text_content:\n",
    "                thai_days_dict[day] += 1\n",
    "    return list(thai_days_dict.values())\n",
    "\n",
    "def Q2(file_path): # DO NOT modify this line\n",
    "    with open(file_path, 'r', encoding='utf-8') as file:\n",
    "        html_content = file.read()\n",
    "    soup = BeautifulSoup(html_content, 'html.parser')\n",
    "    elements = soup.find_all(class_='bud-day-col')\n",
    "    for i in range(len(elements)):\n",
    "        text_content = elements[i].text.strip() \n",
    "        if 'วันวิสาขบูชา' in text_content:\n",
    "            return elements[i-2].text.strip()\n",
    "    return \n",
    "\n",
    "exec(input().strip()) \n"
   ]
  }
 ],
 "metadata": {
  "kernelspec": {
   "display_name": "Python 3",
   "language": "python",
   "name": "python3"
  },
  "language_info": {
   "codemirror_mode": {
    "name": "ipython",
    "version": 3
   },
   "file_extension": ".py",
   "mimetype": "text/x-python",
   "name": "python",
   "nbconvert_exporter": "python",
   "pygments_lexer": "ipython3",
   "version": "3.9.6"
  }
 },
 "nbformat": 4,
 "nbformat_minor": 2
}
