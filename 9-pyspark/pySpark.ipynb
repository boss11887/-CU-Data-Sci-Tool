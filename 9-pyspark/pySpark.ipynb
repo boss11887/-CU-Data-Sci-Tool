{
  "cells": [
    {
      "cell_type": "markdown",
      "metadata": {
        "id": "X_wh2EQp1H4i"
      },
      "source": [
        "# Spark Preparation\n",
        "We check if we are in Google Colab.  If this is the case, install all necessary packages.\n",
        "\n",
        "To run spark in Colab, we need to first install all the dependencies in Colab environment i.e. Apache Spark 3.3.2 with hadoop 3.3, Java 8 and Findspark to locate the spark in the system. The tools installation can be carried out inside the Jupyter Notebook of the Colab.\n",
        "Learn more from [A Must-Read Guide on How to Work with PySpark on Google Colab for Data Scientists!](https://www.analyticsvidhya.com/blog/2020/11/a-must-read-guide-on-how-to-work-with-pyspark-on-google-colab-for-data-scientists/)"
      ]
    },
    {
      "cell_type": "code",
      "source": [
        "from google.colab import drive\n",
        "drive.mount('/content/drive')"
      ],
      "metadata": {
        "id": "GiLW3ujx9v0H",
        "outputId": "626c3571-097e-4b85-a547-5862c9058ed9",
        "colab": {
          "base_uri": "https://localhost:8080/",
          "height": 0
        }
      },
      "execution_count": 75,
      "outputs": [
        {
          "output_type": "stream",
          "name": "stdout",
          "text": [
            "Drive already mounted at /content/drive; to attempt to forcibly remount, call drive.mount(\"/content/drive\", force_remount=True).\n"
          ]
        }
      ]
    },
    {
      "cell_type": "code",
      "execution_count": 76,
      "metadata": {
        "id": "3N638l201H4l"
      },
      "outputs": [],
      "source": [
        "try:\n",
        "  import google.colab\n",
        "  IN_COLAB = True\n",
        "except:\n",
        "  IN_COLAB = False"
      ]
    },
    {
      "cell_type": "code",
      "execution_count": 77,
      "metadata": {
        "id": "gy4zns5v1H4m",
        "outputId": "01fd900f-a834-46d3-9851-0207aa6f91d2",
        "colab": {
          "base_uri": "https://localhost:8080/",
          "height": 0
        }
      },
      "outputs": [
        {
          "output_type": "stream",
          "name": "stdout",
          "text": [
            "mv: cannot move 'spark-3.3.2-bin-hadoop3' to 'spark/spark-3.3.2-bin-hadoop3': Directory not empty\n"
          ]
        }
      ],
      "source": [
        "if IN_COLAB:\n",
        "    !apt-get install openjdk-8-jdk-headless -qq > /dev/null\n",
        "    !wget -q https://archive.apache.org/dist/spark/spark-3.3.2/spark-3.3.2-bin-hadoop3.tgz\n",
        "    !tar xf spark-3.3.2-bin-hadoop3.tgz\n",
        "    !mv spark-3.3.2-bin-hadoop3 spark\n",
        "    !pip install -q findspark\n",
        "    import os\n",
        "    os.environ[\"JAVA_HOME\"] = \"/usr/lib/jvm/java-8-openjdk-amd64\"\n",
        "    os.environ[\"SPARK_HOME\"] = \"/content/spark\"\n"
      ]
    },
    {
      "cell_type": "markdown",
      "metadata": {
        "id": "v0pZU9vb1H4m"
      },
      "source": [
        "# Start a Local Cluster"
      ]
    },
    {
      "cell_type": "code",
      "execution_count": 78,
      "metadata": {
        "id": "kAIGGWQZ1H4m",
        "outputId": "c0830d88-0ca7-4952-e7bc-b5d549121e44",
        "colab": {
          "base_uri": "https://localhost:8080/",
          "height": 219
        }
      },
      "outputs": [
        {
          "output_type": "execute_result",
          "data": {
            "text/plain": [
              "<pyspark.sql.session.SparkSession at 0x7ce7f3533640>"
            ],
            "text/html": [
              "\n",
              "            <div>\n",
              "                <p><b>SparkSession - in-memory</b></p>\n",
              "                \n",
              "        <div>\n",
              "            <p><b>SparkContext</b></p>\n",
              "\n",
              "            <p><a href=\"http://c99b2b3f3a6f:4040\">Spark UI</a></p>\n",
              "\n",
              "            <dl>\n",
              "              <dt>Version</dt>\n",
              "                <dd><code>v3.3.2</code></dd>\n",
              "              <dt>Master</dt>\n",
              "                <dd><code>local[*]</code></dd>\n",
              "              <dt>AppName</dt>\n",
              "                <dd><code>LocalCluster</code></dd>\n",
              "            </dl>\n",
              "        </div>\n",
              "        \n",
              "            </div>\n",
              "        "
            ]
          },
          "metadata": {},
          "execution_count": 78
        }
      ],
      "source": [
        "import findspark\n",
        "findspark.init()\n",
        "\n",
        "from pyspark.sql import SparkSession\n",
        "\n",
        "spark = SparkSession.builder\\\n",
        "        .master(\"local\")\\\n",
        "        .appName(\"Colab\")\\\n",
        "        .config('spark.ui.port', '4050')\\\n",
        "        .getOrCreate()\n",
        "\n",
        "spark"
      ]
    },
    {
      "cell_type": "code",
      "source": [
        "# Verify Spark Configuration\n",
        "sc = spark.sparkContext\n",
        "print(f\"Spark version: {spark.version}\")\n",
        "print(f\"Master: {sc.master}\")\n",
        "print(f\"Number of executors: {sc.defaultParallelism}\")\n"
      ],
      "metadata": {
        "id": "xhbtUqOU-wpT",
        "outputId": "06e903ef-8d39-48bb-874a-b77b7a7bd295",
        "colab": {
          "base_uri": "https://localhost:8080/",
          "height": 0
        }
      },
      "execution_count": 79,
      "outputs": [
        {
          "output_type": "stream",
          "name": "stdout",
          "text": [
            "Spark version: 3.3.2\n",
            "Master: local[*]\n",
            "Number of executors: 2\n"
          ]
        }
      ]
    },
    {
      "cell_type": "markdown",
      "metadata": {
        "id": "0cbcq6t31H4m"
      },
      "source": [
        "# Spark Assignment\n",
        "Based on the movie review dataset in 'netflix-rotten-tomatoes-metacritic-imdb.csv', answer the below questions.\n",
        "\n",
        "**Note:** do not clean or remove missing data"
      ]
    },
    {
      "cell_type": "code",
      "execution_count": 80,
      "metadata": {
        "id": "q8hpT0DG1H4n",
        "outputId": "d1481f70-f0cc-47bf-b6a2-d89e9e85feb0",
        "colab": {
          "base_uri": "https://localhost:8080/",
          "height": 0
        }
      },
      "outputs": [
        {
          "output_type": "stream",
          "name": "stdout",
          "text": [
            "+--------------------+--------------------+--------------------+--------------------+---------------+----------------+--------------------+------------+--------------------+--------------------+--------------------+-----------+----------+---------------------+----------------+---------------+--------------------+------------+------------+--------------------+--------------------+--------------------+--------------------+--------------------+----------+--------------------+--------------------+--------------------+------------+\n",
            "|               Title|               Genre|                Tags|           Languages|Series or Movie|Hidden Gem Score|Country Availability|     Runtime|            Director|              Writer|              Actors|View Rating|IMDb Score|Rotten Tomatoes Score|Metacritic Score|Awards Received|Awards Nominated For|   Boxoffice|Release Date|Netflix Release Date|    Production House|        Netflix Link|           IMDb Link|             Summary|IMDb Votes|               Image|              Poster|        TMDb Trailer|Trailer Site|\n",
            "+--------------------+--------------------+--------------------+--------------------+---------------+----------------+--------------------+------------+--------------------+--------------------+--------------------+-----------+----------+---------------------+----------------+---------------+--------------------+------------+------------+--------------------+--------------------+--------------------+--------------------+--------------------+----------+--------------------+--------------------+--------------------+------------+\n",
            "|    Lets Fight Ghost|Crime, Drama, Fan...|Comedy Programmes...|    Swedish, Spanish|         Series|             4.3|            Thailand|< 30 minutes|     Tomas Alfredson|John Ajvide Lindq...|Kåre Hedebrant, P...|          R|       7.9|                 98.0|            82.0|           74.0|                57.0|  $2,122,065| 12 Dec 2008|          2021-03-04|Canal+, Sandrew M...|https://www.netfl...|https://www.imdb....|A med student wit...|  205926.0|https://occ-0-470...|https://m.media-a...|                null|        null|\n",
            "| HOW TO BUILD A GIRL|              Comedy|Dramas,Comedies,F...|             English|          Movie|             7.0|              Canada|    1-2 hour|       Coky Giedroyc|       Caitlin Moran|Paddy Considine, ...|          R|       5.8|                 79.0|            69.0|            1.0|                null|     $70,632| 08 May 2020|          2021-03-04|Film 4, Monumenta...|https://www.netfl...|https://www.imdb....|When nerdy Johann...|    2838.0|https://occ-0-108...|https://m.media-a...|https://www.youtu...|     YouTube|\n",
            "|          Centigrade|     Drama, Thriller|           Thrillers|             English|          Movie|             6.4|              Canada|    1-2 hour|       Brendan Walsh|Brendan Walsh, Da...|Genesis Rodriguez...|    Unrated|       4.3|                 null|            46.0|           null|                null|     $16,263| 28 Aug 2020|          2021-03-04|                null|https://www.netfl...|https://www.imdb....|Trapped in a froz...|    1720.0|https://occ-0-108...|https://m.media-a...|https://www.youtu...|     YouTube|\n",
            "|               ANNE+|               Drama|TV Dramas,Romanti...|             Turkish|         Series|             7.7| Belgium,Netherlands|< 30 minutes|                null|                null|Vahide Perçin, Go...|       null|       6.5|                 null|            null|            1.0|                null|        null| 01 Oct 2016|          2021-03-04|                null|https://www.netfl...|https://www.imdb....|Upon moving into ...|    1147.0|https://occ-0-148...|https://m.media-a...|                null|        null|\n",
            "|               Moxie|Animation, Short,...|Social Issue Dram...|             English|          Movie|             8.1|Lithuania,Poland,...|    1-2 hour|       Stephen Irwin|                null|        Ragga Gudrun|       null|       6.3|                 null|            null|           null|                 4.0|        null| 22 Sep 2011|          2021-03-04|                null|https://www.netfl...|https://www.imdb....|Inspired by her m...|      63.0|https://occ-0-403...|https://m.media-a...|                null|        null|\n",
            "|    The Con-Heartist|     Comedy, Romance|Romantic Comedies...|                Thai|          Movie|             8.6|            Thailand|     > 2 hrs|       Mez Tharatorn|Pattaranad Bhiboo...|Thiti Mahayotaruk...|       null|       7.4|                 null|            null|           null|                null|        null| 03 Dec 2020|          2021-03-03|                null|https://www.netfl...|https://www.imdb....|After her ex-boyf...|     131.0|https://occ-0-218...|https://m.media-a...|https://www.youtu...|     YouTube|\n",
            "|        Gleboka woda|               Drama|TV Dramas,Polish ...|              Polish|         Series|             8.7|              Poland|< 30 minutes|                null|                null|Marcin Dorocinski...|       null|       7.5|                 null|            null|            2.0|                 4.0|        null| 14 Jun 2011|          2021-03-03|                null|https://www.netfl...|https://www.imdb....|A group of social...|      47.0|https://occ-0-250...|https://m.media-a...|                null|        null|\n",
            "|            Instynkt|               Crime|TV Dramas,Crime T...|              Polish|         Series|             6.9|              Poland|< 30 minutes|                null|                null|Pawel Królikowski...|       null|       3.9|                 null|            null|           null|                null|        null| 03 Mar 2011|          2021-03-03|                null|https://www.netfl...|https://www.imdb....|An enigmatic comm...|     107.0|https://occ-0-250...|https://m.media-a...|                null|        null|\n",
            "|       Only a Mother|               Drama|Social Issue Dram...|             Swedish|          Movie|             8.3|Lithuania,Poland,...|    1-2 hour|         Alf Sjöberg|   Ivar Lo-Johansson|Ulf Palme, Ragnar...|       null|       6.7|                 null|            null|            2.0|                 1.0|        null| 31 Oct 1949|          2021-03-03|                null|https://www.netfl...|https://www.imdb....|An unhappily marr...|      88.0|https://occ-0-285...|https://m.media-a...|                null|        null|\n",
            "|          Snowroller|              Comedy|Sports Movies,Spo...|Swedish, English,...|          Movie|             5.3|Lithuania,Poland,...|    1-2 hour|         Lasse Åberg|Lasse Åberg, Bo J...|Jon Skolmen, Ceci...|       null|       6.6|                 null|            null|           null|                null|        null| 04 Oct 1985|          2021-03-03|                null|https://www.netfl...|https://www.imdb....|Two friends take ...|    5926.0|https://occ-0-285...|https://m.media-a...|                null|        null|\n",
            "|        Sunes Summer|Comedy, Family, F...|Children & Family...|             Swedish|          Movie|             7.5|Lithuania,Poland,...|    1-2 hour|        Jon Holmberg|Jon Holmberg, Dan...|Elis Gerdt, Tea S...|       null|       5.5|                 null|            null|           null|                 7.0|        null| 30 Nov 2018|          2021-03-03|                null|https://www.netfl...|https://www.imdb....|A family camping ...|     560.0|https://occ-0-285...|https://m.media-a...|                null|        null|\n",
            "|       The Invisible|Crime, Drama, Fan...|Thriller Movies,M...|             English|          Movie|             2.0|Lithuania,Poland,...|    1-2 hour|      David S. Goyer|Christine Roum, M...|Marcia Gay Harden...|      PG-13|       6.2|                 20.0|            36.0|           null|                 1.0| $20,578,909| 27 Apr 2007|          2021-03-03|Touchstone Pictur...|https://www.netfl...|https://www.imdb....|Critically injure...|   34738.0|https://occ-0-285...|https://m.media-a...|https://www.youtu...|     YouTube|\n",
            "|The Simple Minded...|               Drama|Social Issue Dram...|    Scanian, Swedish|          Movie|             7.8|Lithuania,Poland,...|    1-2 hour|      Hans Alfredson|      Hans Alfredson|Stellan Skarsgård...|       null|       7.6|                 92.0|            null|            7.0|                 2.0|        null| 01 Sep 1985|          2021-03-03|Svensk Filmindust...|https://www.netfl...|https://www.imdb....|A good-natured fa...|    2870.0|https://occ-0-285...|https://m.media-a...|                null|        null|\n",
            "|The Stig-Helmer S...|       Comedy, Drama|Romantic Dramas,R...|    Swedish, English|          Movie|             6.4|Lithuania,Poland,...|    1-2 hour|         Lasse Åberg|         Lasse Åberg|Jon Skolmen, Ida ...|       null|       4.5|                 null|            null|           null|                 1.0|        null| 25 Dec 2011|          2021-03-03|                null|https://www.netfl...|https://www.imdb....|Popular character...|    1666.0|https://occ-0-285...|https://m.media-a...|                null|        null|\n",
            "|     To Kill a Child|        Short, Drama|Dramas,Swedish Mo...|             Spanish|          Movie|             8.8|Lithuania,Poland,...|< 30 minutes|José Esteban Alen...|José Esteban Alen...|Manolo Solo, Roge...|       null|       7.7|                 null|            null|            2.0|                 5.0|        null| 07 Feb 2011|          2021-03-03|                null|https://www.netfl...|https://www.imdb....|A car accident in...|      78.0|https://occ-0-285...|https://m.media-a...|                null|        null|\n",
            "|               Joker|Crime, Drama, Thr...|Dark Comedies,Cri...|             English|          Movie|             3.5|Lithuania,Poland,...|    1-2 hour|       Todd Phillips|Scott Silver, Jer...|Joaquin Phoenix, ...|          R|       8.4|                 68.0|            59.0|          112.0|               228.0|$335,451,311| 04 Oct 2019|          2021-03-03|Bron Studios, Cre...|https://www.netfl...|https://www.imdb....|A practical joker...|  951938.0|https://occ-0-285...|https://m.media-a...|https://www.youtu...|     YouTube|\n",
            "|                   I|Action, Adventure...|Dramas,Swedish Mo...|   English, Sanskrit|          Movie|             2.8|Lithuania,Poland,...|    1-2 hour|        George Lucas|        George Lucas|Liam Neeson, Ewan...|         PG|       6.5|                 52.0|            51.0|           26.0|                69.0|$474,544,677| 19 May 1999|          2021-03-03|      Lucasfilm Ltd.|https://www.netfl...|https://www.imdb....|A young man seeki...|  733336.0|https://occ-0-285...|https://m.media-a...|https://www.youtu...|     YouTube|\n",
            "|    Harrys Daughters|Adventure, Drama,...|Dramas,Swedish Mo...|             English|          Movie|             4.4|Lithuania,Poland,...|    1-2 hour|         David Yates|Steve Kloves, J.K...|Ralph Fiennes, Al...|      PG-13|       8.1|                 96.0|            85.0|           46.0|                94.0|$381,409,310| 15 Jul 2011|          2021-03-03|Heyday Films, Mov...|https://www.netfl...|https://www.imdb....|As two sisters bo...|  766594.0|https://occ-0-285...|https://m.media-a...|https://www.youtu...|     YouTube|\n",
            "|       Gyllene Tider|               Music|Music & Musicals,...|             Swedish|          Movie|             8.8|Lithuania,Poland,...|  30-60 mins|     Lasse Hallström|                null|Micke Andersson, ...|       null|       7.7|                 null|            null|           null|                null|        null|        null|          2021-03-03|                null|https://www.netfl...|https://www.imdb....|This music docume...|      19.0|https://occ-0-285...|https://m.media-a...|                null|        null|\n",
            "|      False As Water|     Drama, Thriller|Psychological Thr...|             Swedish|          Movie|             7.9|Lithuania,Poland,...|    1-2 hour|      Hans Alfredson|      Hans Alfredson|Marie Göranzon, S...|       null|       6.3|                 null|            null|            3.0|                null|        null| 08 Nov 1985|          2021-03-03|                null|https://www.netfl...|https://www.imdb....|The illicit roman...|     546.0|https://occ-0-285...|https://m.media-a...|                null|        null|\n",
            "+--------------------+--------------------+--------------------+--------------------+---------------+----------------+--------------------+------------+--------------------+--------------------+--------------------+-----------+----------+---------------------+----------------+---------------+--------------------+------------+------------+--------------------+--------------------+--------------------+--------------------+--------------------+----------+--------------------+--------------------+--------------------+------------+\n",
            "only showing top 20 rows\n",
            "\n"
          ]
        }
      ],
      "source": [
        "df = spark.read.csv(\"netflix-rotten-tomatoes-metacritic-imdb.csv\", header=True, inferSchema=True)\n",
        "df.show()"
      ]
    },
    {
      "cell_type": "markdown",
      "metadata": {
        "id": "DChCgLw11H4n"
      },
      "source": [
        "## What is the maximum and average of the overall hidden gem score?"
      ]
    },
    {
      "cell_type": "code",
      "execution_count": 81,
      "metadata": {
        "id": "URElFBYI1H4n",
        "outputId": "876df1f7-eeaf-47ef-8d6e-84d798723698",
        "colab": {
          "base_uri": "https://localhost:8080/",
          "height": 0
        }
      },
      "outputs": [
        {
          "output_type": "stream",
          "name": "stdout",
          "text": [
            "Maximum Hidden Gem Score: 9.8\n",
            "Average Hidden Gem Score: 5.937551386501234\n"
          ]
        }
      ],
      "source": [
        "\n",
        "from pyspark.sql.functions import max, avg\n",
        "\n",
        "max_hidden_gem_score = df.select(max(\"Hidden Gem Score\")).first()[0]\n",
        "avg_hidden_gem_score = df.select(avg(\"Hidden Gem Score\")).first()[0]\n",
        "\n",
        "print(f\"Maximum Hidden Gem Score: {max_hidden_gem_score}\")\n",
        "print(f\"Average Hidden Gem Score: {avg_hidden_gem_score}\")"
      ]
    },
    {
      "cell_type": "markdown",
      "metadata": {
        "id": "4M6mi3Bi1H4n"
      },
      "source": [
        "## How many movies that are available in Korea?"
      ]
    },
    {
      "cell_type": "code",
      "execution_count": 82,
      "metadata": {
        "id": "EQr7vpYm1H4o",
        "outputId": "4b21338c-3ad7-44dd-a8c6-5f6d9930704b",
        "colab": {
          "base_uri": "https://localhost:8080/",
          "height": 0
        }
      },
      "outputs": [
        {
          "output_type": "stream",
          "name": "stdout",
          "text": [
            "Number of movies available in Korea: 735\n"
          ]
        }
      ],
      "source": [
        "num_movies_korea = df.filter(df[\"Languages\"].contains(\"Korea\")).count()\n",
        "\n",
        "print(f\"Number of movies available in Korea: {num_movies_korea}\")"
      ]
    },
    {
      "cell_type": "markdown",
      "metadata": {
        "id": "7oKJy_SF1H4o"
      },
      "source": [
        "## Which director has the highest average hidden gem score?"
      ]
    },
    {
      "cell_type": "code",
      "execution_count": 83,
      "metadata": {
        "id": "8cGpcca-1H4o",
        "outputId": "50fd10e3-b7b2-41cf-c599-3d51af5c84f2",
        "colab": {
          "base_uri": "https://localhost:8080/",
          "height": 0
        }
      },
      "outputs": [
        {
          "output_type": "stream",
          "name": "stdout",
          "text": [
            "Director with highest average Hidden Gem Score: Dorin Marcu\n",
            "Highest Average Hidden Gem Score: 9.8\n"
          ]
        }
      ],
      "source": [
        "from pyspark.sql.functions import max, desc\n",
        "\n",
        "directors_df = df.groupby('Director').agg(avg('Hidden Gem Score'))\n",
        "highest_avg_hidden_gem_director = directors_df.orderBy(desc(\"avg(Hidden Gem Score)\")).first()\n",
        "\n",
        "director_name = highest_avg_hidden_gem_director[\"Director\"]\n",
        "highest_avg_hidden_gem_score = highest_avg_hidden_gem_director[\"avg(Hidden Gem Score)\"]\n",
        "\n",
        "print(f\"Director with highest average Hidden Gem Score: {director_name}\")\n",
        "print(f\"Highest Average Hidden Gem Score: {highest_avg_hidden_gem_score}\")"
      ]
    },
    {
      "cell_type": "markdown",
      "metadata": {
        "id": "WcB4kdTM1H4o"
      },
      "source": [
        "## How many genres are there in the dataset?"
      ]
    },
    {
      "cell_type": "code",
      "execution_count": 84,
      "metadata": {
        "id": "nXVajmx91H4o",
        "outputId": "69bd4436-04a8-42ca-8518-6ed975c72f14",
        "colab": {
          "base_uri": "https://localhost:8080/",
          "height": 0
        }
      },
      "outputs": [
        {
          "output_type": "stream",
          "name": "stdout",
          "text": [
            "Unique Genre Count: 28\n"
          ]
        }
      ],
      "source": [
        "from pyspark.sql.functions import explode, split, countDistinct\n",
        "\n",
        "df_genres = df.withColumn(\"Genre\", split(\"Genre\", \",\\s*\"))\n",
        "df_exploded = df_genres.select(explode(\"Genre\").alias(\"Genre\"))\n",
        "\n",
        "unique_count = df_exploded.select(countDistinct(\"Genre\").alias(\"Unique Genre Count\")).first()[0]\n",
        "\n",
        "print(f\"Unique Genre Count: {unique_count}\")"
      ]
    }
  ],
  "metadata": {
    "kernelspec": {
      "display_name": "Python 3 (ipykernel)",
      "language": "python",
      "name": "python3"
    },
    "language_info": {
      "codemirror_mode": {
        "name": "ipython",
        "version": 3
      },
      "file_extension": ".py",
      "mimetype": "text/x-python",
      "name": "python",
      "nbconvert_exporter": "python",
      "pygments_lexer": "ipython3",
      "version": "3.9.13"
    },
    "toc": {
      "base_numbering": 1,
      "nav_menu": {},
      "number_sections": true,
      "sideBar": true,
      "skip_h1_title": false,
      "title_cell": "Table of Contents",
      "title_sidebar": "Contents",
      "toc_cell": false,
      "toc_position": {},
      "toc_section_display": true,
      "toc_window_display": false
    },
    "varInspector": {
      "cols": {
        "lenName": 16,
        "lenType": 16,
        "lenVar": 40
      },
      "kernels_config": {
        "python": {
          "delete_cmd_postfix": "",
          "delete_cmd_prefix": "del ",
          "library": "var_list.py",
          "varRefreshCmd": "print(var_dic_list())"
        },
        "r": {
          "delete_cmd_postfix": ") ",
          "delete_cmd_prefix": "rm(",
          "library": "var_list.r",
          "varRefreshCmd": "cat(var_dic_list()) "
        }
      },
      "types_to_exclude": [
        "module",
        "function",
        "builtin_function_or_method",
        "instance",
        "_Feature"
      ],
      "window_display": false
    },
    "colab": {
      "provenance": []
    }
  },
  "nbformat": 4,
  "nbformat_minor": 0
}